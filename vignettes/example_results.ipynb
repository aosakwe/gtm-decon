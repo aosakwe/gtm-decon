{
 "cells": [
  {
   "cell_type": "markdown",
   "id": "b7aae725",
   "metadata": {},
   "source": [
    "# Example LOOCV Results\n",
    "\n",
    "In this notebook we will run the example script: **example_loocv_script.py**, which will, similar to the tutorial notebook, run the GTM-decon engine in a leave-one-out manner on the example paired single cell and bulk data. For more details, you can see the either the tutorial notebook or the **example_loocv_script.py** source code itself."
   ]
  },
  {
   "cell_type": "code",
   "execution_count": null,
   "id": "9a032e5c",
   "metadata": {
    "scrolled": false
   },
   "outputs": [],
   "source": [
    "!python3 example_loocv_script.py"
   ]
  },
  {
   "cell_type": "markdown",
   "id": "98f38f9b",
   "metadata": {},
   "source": [
    "### Loading Data and Imports"
   ]
  },
  {
   "cell_type": "code",
   "execution_count": null,
   "id": "d7951633",
   "metadata": {},
   "outputs": [],
   "source": [
    "import pandas as pd\n",
    "import matplotlib.pyplot as plt\n",
    "import seaborn as sns\n",
    "import json\n",
    "import os\n",
    "from scipy.stats import pearsonr, spearmanr, linregress"
   ]
  },
  {
   "cell_type": "code",
   "execution_count": null,
   "id": "580fd2fe",
   "metadata": {},
   "outputs": [],
   "source": [
    "batches = ['D1', 'D2', 'D3', 'D4', 'H1', 'H2', 'H3']"
   ]
  },
  {
   "cell_type": "markdown",
   "id": "b3a1bd3a",
   "metadata": {},
   "source": [
    "Gather GTM-decon inferred cell-type proportions for each LOOCV batch. "
   ]
  },
  {
   "cell_type": "code",
   "execution_count": null,
   "id": "a2ff1384",
   "metadata": {},
   "outputs": [],
   "source": [
    "l = []\n",
    "\n",
    "for batch in batches:\n",
    "    results_path = os.path.join('tutorial_results', batch, 'gatheredResults.csv')\n",
    "    \n",
    "    l.append(pd.read_csv(results_path, index_col=0))\n",
    "    \n",
    "GTM_proportions = pd.concat(l)"
   ]
  },
  {
   "cell_type": "code",
   "execution_count": null,
   "id": "8fc0a5b9",
   "metadata": {},
   "outputs": [],
   "source": [
    "GTM_proportions"
   ]
  },
  {
   "cell_type": "markdown",
   "id": "57df39ff",
   "metadata": {},
   "source": [
    "### Load Proportions File\n",
    "\n",
    "We use the single-cell proportions for each sample as a proxy for the ground-truth cell-type proportions."
   ]
  },
  {
   "cell_type": "code",
   "execution_count": null,
   "id": "cf613ff0",
   "metadata": {},
   "outputs": [],
   "source": [
    "proportions = pd.read_csv(\"../data/example_proportions.csv\", index_col=0)"
   ]
  },
  {
   "cell_type": "code",
   "execution_count": null,
   "id": "63620cb3",
   "metadata": {},
   "outputs": [],
   "source": [
    "proportions"
   ]
  },
  {
   "cell_type": "markdown",
   "id": "5eafd16b",
   "metadata": {},
   "source": [
    "## Computing Spearman R\n",
    "We can compute the Spearman Correlation Coefficient for our inferred cell-type proportions and the real single-cell proportions of the left out batches (as a proxy for the ground truth cell-type proportions."
   ]
  },
  {
   "cell_type": "code",
   "execution_count": null,
   "id": "1d94a574",
   "metadata": {},
   "outputs": [],
   "source": [
    "spearman_results = []\n",
    "for b in proportions.index:\n",
    "    spearman_results.append(spearmanr(\n",
    "        GTM_proportions.loc[b][proportions.columns],\n",
    "        proportions.loc[b],\n",
    "    )[0])"
   ]
  },
  {
   "cell_type": "code",
   "execution_count": null,
   "id": "d6ba551e",
   "metadata": {},
   "outputs": [],
   "source": [
    "sns.set(rc={'figure.figsize': (2, 3), 'figure.dpi': 100})\n",
    "sns.boxplot(spearman_results)\n",
    "plt.title('GTM-decon LOOCV SCC')\n",
    "# plt.xlabel('')\n",
    "plt.xticks([])\n",
    "plt.ylabel('Spearman R')\n"
   ]
  },
  {
   "cell_type": "markdown",
   "id": "a7be4e62",
   "metadata": {},
   "source": [
    "## Plotting Cell-type specific $R^2$\n",
    "\n",
    "In order to evaluate possible biases, we can see how our model performs on the basis of each celltype. Here we will show these results for the 6 most common cell-types in the example data. Similar to Figure 2b."
   ]
  },
  {
   "cell_type": "code",
   "execution_count": null,
   "id": "3013f4c7",
   "metadata": {},
   "outputs": [],
   "source": [
    "cell_types_to_plot = sorted(['alpha cell', 'ductal cell', 'beta cell', 'gamma cell', 'acinar cell', 'delta cell'])"
   ]
  },
  {
   "cell_type": "code",
   "execution_count": null,
   "id": "e8f5a049",
   "metadata": {
    "scrolled": false
   },
   "outputs": [],
   "source": [
    "sns.set(rc={'figure.figsize': (3.5, 12),'figure.dpi': 100})\n",
    "fig, axes = plt.subplots(6, 1)\n",
    "plt.subplots_adjust(hspace=0.6, wspace=0.6)\n",
    "\n",
    "for index, celltype in enumerate(cell_types_to_plot):\n",
    "    k, n, r, _, _ = linregress(\n",
    "        GTM_proportions[celltype],\n",
    "        proportions[celltype],\n",
    "    )\n",
    "    sns.scatterplot(\n",
    "        x = GTM_proportions[celltype],\n",
    "        y = proportions[celltype],\n",
    "        ax = axes[index],\n",
    "        s=5,\n",
    "    )\n",
    "\n",
    "    ymin, ymax = axes[index].get_ylim()\n",
    "    xmin, xmax = axes[index].get_xlim()\n",
    "    axes[index].axline((0, n), slope=k, label=f'$R^2$={r:.3f}', color=\"#cc8963\", lw=2, alpha=0.5)\n",
    "    axes[index].legend(framealpha=0, fontsize=8, loc='upper center', \n",
    "                    bbox_to_anchor = [0.5, 1.25])\n",
    "\n",
    "    axes[index].set_ylim(ymin, ymax)\n",
    "    axes[index].set_xlim(xmin, xmax)\n",
    "    axes[index].set_ylabel(celltype)\n",
    "    axes[index].set_xlabel('')\n",
    "    \n",
    "fig.supylabel('GTM-decon Inferred Proportions')\n",
    "fig.supxlabel('Ground Truth Proportions')\n",
    "fig.suptitle('GTM-decon Cell-Type Specific $R^2$')\n",
    "\n",
    "plt.tight_layout()"
   ]
  }
 ],
 "metadata": {
  "kernelspec": {
   "display_name": "Python 3 (ipykernel)",
   "language": "python",
   "name": "python3"
  },
  "language_info": {
   "codemirror_mode": {
    "name": "ipython",
    "version": 3
   },
   "file_extension": ".py",
   "mimetype": "text/x-python",
   "name": "python",
   "nbconvert_exporter": "python",
   "pygments_lexer": "ipython3",
   "version": "3.8.10"
  }
 },
 "nbformat": 4,
 "nbformat_minor": 5
}

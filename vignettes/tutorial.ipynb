{
 "cells": [
  {
   "cell_type": "markdown",
   "id": "34b23113",
   "metadata": {},
   "source": [
    "# Setup\n",
    "\n",
    "Section to set up Jupyter Notebook and intialize experimental settings.\n",
    "\n",
    "### Give Jupyter Notebook access to relative import"
   ]
  },
  {
   "cell_type": "code",
   "execution_count": 1,
   "id": "52f876a8",
   "metadata": {},
   "outputs": [],
   "source": [
    "import os\n",
    "import sys\n",
    "module_path = os.path.abspath(os.path.join('..'))\n",
    "if module_path not in sys.path:\n",
    "    sys.path.append(module_path)"
   ]
  },
  {
   "cell_type": "markdown",
   "id": "19dd9eb1",
   "metadata": {},
   "source": [
    "### Create GTMDecon object\n",
    "\n",
    "For ease of user access, we use the GTMDecon python wrapper, built around the gtm-decon C executable files."
   ]
  },
  {
   "cell_type": "code",
   "execution_count": 2,
   "id": "1fdb753a",
   "metadata": {},
   "outputs": [],
   "source": [
    "from PythonWrapper.GTM_decon import GTM_decon"
   ]
  },
  {
   "cell_type": "markdown",
   "id": "912c4e76",
   "metadata": {},
   "source": [
    "Initialize GTMDecon wrapper object:\n",
    "\n",
    "Basic Constructor Arguments:\n",
    "- **experiment_name** : str [optional]\n",
    "- **n_topics** : int [optional, default=1]\n",
    "    - number of topics we wish to set per celltype\n",
    "- **engine_path** : str\n",
    "    - path to GTM-decon C executable\n",
    "    Here we only set the experiment name and engine path, the n_topics parameter will be by default set to 1."
   ]
  },
  {
   "cell_type": "code",
   "execution_count": 55,
   "id": "3b3dd3b8",
   "metadata": {},
   "outputs": [],
   "source": [
    "GTM = GTM_decon(\n",
    "    experiment_name = \"gtm-tutorial\",\n",
    "    engine_path = \"/home/mcb/users/slaksh1/projects/revision_gb/gtm-decon-phinorm/gtm-decon-plus-noupd-ab-phinorm\"\n",
    ")"
   ]
  },
  {
   "cell_type": "markdown",
   "id": "ef31897f",
   "metadata": {},
   "source": [
    "We can see the parameters set for our GTM wrapper, including the number of topics per celltype and the engine_path (path to C executable).\n",
    "\n",
    "We can see that the **experiment_name**, **n_topics**, and **engine_path** attributes have been set as we intended, while the remaining attributes have been left unfilled. The **genes**, **celltypes**, and **bulk_samples** parameters will be populated as we provide our input reference and bulk data."
   ]
  },
  {
   "cell_type": "code",
   "execution_count": 56,
   "id": "9f108529",
   "metadata": {},
   "outputs": [
    {
     "name": "stdout",
     "output_type": "stream",
     "text": [
      "GTM-decon wrapper object with attributes:\n",
      "  - experiment_name: gtm-tutorial\n",
      "  - n_topics: 1\n",
      "  - engine_path: /home/mcb/users/slaksh1/projects/revision_gb/gtm-decon-phinorm/gtm-decon-plus-noupd-ab-phinorm\n",
      "  - genes: []\n",
      "  - celltypes: []\n",
      "  - bulk_samples: []\n",
      "  - verbose: True\n",
      "  - output_intermediates: False\n",
      "  - override_geneset: False\n",
      "\n"
     ]
    }
   ],
   "source": [
    "print(GTM)"
   ]
  },
  {
   "cell_type": "markdown",
   "id": "cc566154",
   "metadata": {},
   "source": [
    "# Example Deconvolution Pipeline\n",
    "\n",
    "In order to infer cell-type proportions for a given bulk dataset and given single cell reference matrix, we can use the **GTMDecon.pipeline** function to process the input information, run it through the gtm-decon C executables, and output the predicted cell-type proportions of our bulk."
   ]
  },
  {
   "cell_type": "markdown",
   "id": "26696c83",
   "metadata": {},
   "source": [
    "### Loading DataFrames"
   ]
  },
  {
   "cell_type": "code",
   "execution_count": 57,
   "id": "2fbc2bd8",
   "metadata": {},
   "outputs": [],
   "source": [
    "import pandas as pd\n",
    "import anndata as ad"
   ]
  },
  {
   "cell_type": "markdown",
   "id": "5535276a",
   "metadata": {},
   "source": [
    "Load our example reference and bulk dataframes from the example csvs.\n",
    "\n",
    "The **reference_DataFrame** should be a pandas DataFrame object, the rows are cells, the columns are the genes, with one additional column named *Celltype* containing the cell-type labels associated with each row.\n",
    "\n",
    "The **bulk_DataFrame** should be a pandas DataFrame, where the rows represent genes, with the genes stored as the index, and the columns represent the bulk batches.\n",
    "\n",
    "First need to uncompress tutorial data."
   ]
  },
  {
   "cell_type": "code",
   "execution_count": 65,
   "id": "b11a61a4",
   "metadata": {},
   "outputs": [
    {
     "name": "stdout",
     "output_type": "stream",
     "text": [
      "Fig3a.png\r\n",
      "Fig3c.png\r\n",
      "genes.txt\r\n",
      "GEO_Fadista_5topics_metagene_normalized.csv\r\n",
      "Human_cell_markers_geneset.txt\r\n",
      "temp\r\n",
      "trainData_5topics_phi_normalized.csv\r\n",
      "tutorial_data.tar.gz\r\n"
     ]
    }
   ],
   "source": [
    "!ls ../data"
   ]
  },
  {
   "cell_type": "code",
   "execution_count": 68,
   "id": "ec122392",
   "metadata": {},
   "outputs": [
    {
     "name": "stdout",
     "output_type": "stream",
     "text": [
      "bulk_data.csv\n",
      "reference_data.csv\n",
      "example_proportions.csv\n"
     ]
    }
   ],
   "source": [
    "!tar -xzvf ../data/tutorial_data.tar.gz -C ../data"
   ]
  },
  {
   "cell_type": "code",
   "execution_count": 32,
   "id": "4ad2456e",
   "metadata": {},
   "outputs": [],
   "source": [
    "bulk_DataFrame = pd.read_csv(\"../data/bulk_data.csv\", index_col=0)\n",
    "reference_DataFrame = pd.read_csv(\"../data/reference_data.csv\")"
   ]
  },
  {
   "cell_type": "markdown",
   "id": "de05d885",
   "metadata": {},
   "source": [
    "### Single Leave-One-Out CV fold\n",
    "\n",
    "Since we have paired single cell reference and bulk data for this example, we will remove one batch from the reference data, and deconvolve the bulk data corresponding to that same individual (in order to prevent data leaking). \n",
    "\n",
    "Here we will leave-out H2."
   ]
  },
  {
   "cell_type": "code",
   "execution_count": 47,
   "id": "bba75a57",
   "metadata": {},
   "outputs": [],
   "source": [
    "reference_df = reference_DataFrame[reference_DataFrame['Batch'] != 'H2']"
   ]
  },
  {
   "cell_type": "markdown",
   "id": "c7813ef8",
   "metadata": {},
   "source": [
    "We need to first remove the **Batch** column, as GTM_decon expects DataFrames to only contain the genes and cell-type labels in its columns."
   ]
  },
  {
   "cell_type": "code",
   "execution_count": 49,
   "id": "99ed2ed1",
   "metadata": {},
   "outputs": [],
   "source": [
    "reference_df = reference_df.drop(columns=['Batch'])"
   ]
  },
  {
   "cell_type": "code",
   "execution_count": 50,
   "id": "46b1e376",
   "metadata": {},
   "outputs": [
    {
     "data": {
      "text/html": [
       "<div>\n",
       "<style scoped>\n",
       "    .dataframe tbody tr th:only-of-type {\n",
       "        vertical-align: middle;\n",
       "    }\n",
       "\n",
       "    .dataframe tbody tr th {\n",
       "        vertical-align: top;\n",
       "    }\n",
       "\n",
       "    .dataframe thead th {\n",
       "        text-align: right;\n",
       "    }\n",
       "</style>\n",
       "<table border=\"1\" class=\"dataframe\">\n",
       "  <thead>\n",
       "    <tr style=\"text-align: right;\">\n",
       "      <th></th>\n",
       "      <th>CLIC4</th>\n",
       "      <th>TGFBR3</th>\n",
       "      <th>DBT</th>\n",
       "      <th>LIN9</th>\n",
       "      <th>CSMD2</th>\n",
       "      <th>TRABD2B</th>\n",
       "      <th>DAB1</th>\n",
       "      <th>USP24</th>\n",
       "      <th>LEPR</th>\n",
       "      <th>ST6GALNAC3</th>\n",
       "      <th>...</th>\n",
       "      <th>PRR34</th>\n",
       "      <th>PKDREJ</th>\n",
       "      <th>GTSE1</th>\n",
       "      <th>GTSE1-AS1</th>\n",
       "      <th>LOC642757</th>\n",
       "      <th>LOC90834</th>\n",
       "      <th>TUBGCP6</th>\n",
       "      <th>TYMP</th>\n",
       "      <th>MIOX</th>\n",
       "      <th>Celltype</th>\n",
       "    </tr>\n",
       "  </thead>\n",
       "  <tbody>\n",
       "    <tr>\n",
       "      <th>0</th>\n",
       "      <td>127</td>\n",
       "      <td>0</td>\n",
       "      <td>1</td>\n",
       "      <td>0</td>\n",
       "      <td>0</td>\n",
       "      <td>0</td>\n",
       "      <td>0</td>\n",
       "      <td>8</td>\n",
       "      <td>0</td>\n",
       "      <td>0</td>\n",
       "      <td>...</td>\n",
       "      <td>0</td>\n",
       "      <td>0</td>\n",
       "      <td>0</td>\n",
       "      <td>0</td>\n",
       "      <td>0</td>\n",
       "      <td>0</td>\n",
       "      <td>162</td>\n",
       "      <td>13</td>\n",
       "      <td>0</td>\n",
       "      <td>acinar cell</td>\n",
       "    </tr>\n",
       "    <tr>\n",
       "      <th>1</th>\n",
       "      <td>0</td>\n",
       "      <td>0</td>\n",
       "      <td>57</td>\n",
       "      <td>0</td>\n",
       "      <td>0</td>\n",
       "      <td>0</td>\n",
       "      <td>0</td>\n",
       "      <td>2</td>\n",
       "      <td>0</td>\n",
       "      <td>0</td>\n",
       "      <td>...</td>\n",
       "      <td>0</td>\n",
       "      <td>0</td>\n",
       "      <td>0</td>\n",
       "      <td>0</td>\n",
       "      <td>0</td>\n",
       "      <td>0</td>\n",
       "      <td>0</td>\n",
       "      <td>0</td>\n",
       "      <td>0</td>\n",
       "      <td>alpha cell</td>\n",
       "    </tr>\n",
       "    <tr>\n",
       "      <th>2</th>\n",
       "      <td>0</td>\n",
       "      <td>0</td>\n",
       "      <td>56</td>\n",
       "      <td>0</td>\n",
       "      <td>0</td>\n",
       "      <td>0</td>\n",
       "      <td>0</td>\n",
       "      <td>2</td>\n",
       "      <td>0</td>\n",
       "      <td>0</td>\n",
       "      <td>...</td>\n",
       "      <td>0</td>\n",
       "      <td>0</td>\n",
       "      <td>0</td>\n",
       "      <td>0</td>\n",
       "      <td>0</td>\n",
       "      <td>0</td>\n",
       "      <td>6</td>\n",
       "      <td>0</td>\n",
       "      <td>0</td>\n",
       "      <td>gamma cell</td>\n",
       "    </tr>\n",
       "    <tr>\n",
       "      <th>3</th>\n",
       "      <td>33</td>\n",
       "      <td>0</td>\n",
       "      <td>102</td>\n",
       "      <td>0</td>\n",
       "      <td>0</td>\n",
       "      <td>0</td>\n",
       "      <td>0</td>\n",
       "      <td>56</td>\n",
       "      <td>0</td>\n",
       "      <td>0</td>\n",
       "      <td>...</td>\n",
       "      <td>3</td>\n",
       "      <td>0</td>\n",
       "      <td>0</td>\n",
       "      <td>0</td>\n",
       "      <td>0</td>\n",
       "      <td>0</td>\n",
       "      <td>0</td>\n",
       "      <td>0</td>\n",
       "      <td>0</td>\n",
       "      <td>gamma cell</td>\n",
       "    </tr>\n",
       "    <tr>\n",
       "      <th>4</th>\n",
       "      <td>0</td>\n",
       "      <td>0</td>\n",
       "      <td>0</td>\n",
       "      <td>0</td>\n",
       "      <td>0</td>\n",
       "      <td>0</td>\n",
       "      <td>2</td>\n",
       "      <td>17</td>\n",
       "      <td>0</td>\n",
       "      <td>0</td>\n",
       "      <td>...</td>\n",
       "      <td>0</td>\n",
       "      <td>0</td>\n",
       "      <td>0</td>\n",
       "      <td>0</td>\n",
       "      <td>0</td>\n",
       "      <td>0</td>\n",
       "      <td>0</td>\n",
       "      <td>0</td>\n",
       "      <td>0</td>\n",
       "      <td>gamma cell</td>\n",
       "    </tr>\n",
       "  </tbody>\n",
       "</table>\n",
       "<p>5 rows × 5027 columns</p>\n",
       "</div>"
      ],
      "text/plain": [
       "   CLIC4  TGFBR3  DBT  LIN9  CSMD2  TRABD2B  DAB1  USP24  LEPR  ST6GALNAC3  \\\n",
       "0    127       0    1     0      0        0     0      8     0           0   \n",
       "1      0       0   57     0      0        0     0      2     0           0   \n",
       "2      0       0   56     0      0        0     0      2     0           0   \n",
       "3     33       0  102     0      0        0     0     56     0           0   \n",
       "4      0       0    0     0      0        0     2     17     0           0   \n",
       "\n",
       "   ...  PRR34  PKDREJ  GTSE1  GTSE1-AS1  LOC642757  LOC90834  TUBGCP6  TYMP  \\\n",
       "0  ...      0       0      0          0          0         0      162    13   \n",
       "1  ...      0       0      0          0          0         0        0     0   \n",
       "2  ...      0       0      0          0          0         0        6     0   \n",
       "3  ...      3       0      0          0          0         0        0     0   \n",
       "4  ...      0       0      0          0          0         0        0     0   \n",
       "\n",
       "   MIOX     Celltype  \n",
       "0     0  acinar cell  \n",
       "1     0   alpha cell  \n",
       "2     0   gamma cell  \n",
       "3     0   gamma cell  \n",
       "4     0   gamma cell  \n",
       "\n",
       "[5 rows x 5027 columns]"
      ]
     },
     "execution_count": 50,
     "metadata": {},
     "output_type": "execute_result"
    }
   ],
   "source": [
    "reference_df.head()"
   ]
  },
  {
   "cell_type": "markdown",
   "id": "96a08df5",
   "metadata": {},
   "source": [
    "For the bulk data we will do the inverse of the above, we will keep batch H2 so that we can infer the cell-type proportions of this sample."
   ]
  },
  {
   "cell_type": "code",
   "execution_count": 41,
   "id": "06bb2ef5",
   "metadata": {},
   "outputs": [],
   "source": [
    "bulk_df = bulk_DataFrame[['H2']]"
   ]
  },
  {
   "cell_type": "code",
   "execution_count": 42,
   "id": "5d8a5cd3",
   "metadata": {
    "scrolled": true
   },
   "outputs": [
    {
     "data": {
      "text/html": [
       "<div>\n",
       "<style scoped>\n",
       "    .dataframe tbody tr th:only-of-type {\n",
       "        vertical-align: middle;\n",
       "    }\n",
       "\n",
       "    .dataframe tbody tr th {\n",
       "        vertical-align: top;\n",
       "    }\n",
       "\n",
       "    .dataframe thead th {\n",
       "        text-align: right;\n",
       "    }\n",
       "</style>\n",
       "<table border=\"1\" class=\"dataframe\">\n",
       "  <thead>\n",
       "    <tr style=\"text-align: right;\">\n",
       "      <th></th>\n",
       "      <th>H2</th>\n",
       "    </tr>\n",
       "  </thead>\n",
       "  <tbody>\n",
       "    <tr>\n",
       "      <th>SGIP1</th>\n",
       "      <td>616</td>\n",
       "    </tr>\n",
       "    <tr>\n",
       "      <th>AZIN2</th>\n",
       "      <td>344</td>\n",
       "    </tr>\n",
       "    <tr>\n",
       "      <th>CLIC4</th>\n",
       "      <td>2753</td>\n",
       "    </tr>\n",
       "    <tr>\n",
       "      <th>AGBL4</th>\n",
       "      <td>155</td>\n",
       "    </tr>\n",
       "    <tr>\n",
       "      <th>NECAP2</th>\n",
       "      <td>1737</td>\n",
       "    </tr>\n",
       "  </tbody>\n",
       "</table>\n",
       "</div>"
      ],
      "text/plain": [
       "          H2\n",
       "SGIP1    616\n",
       "AZIN2    344\n",
       "CLIC4   2753\n",
       "AGBL4    155\n",
       "NECAP2  1737"
      ]
     },
     "execution_count": 42,
     "metadata": {},
     "output_type": "execute_result"
    }
   ],
   "source": [
    "bulk_df.head()"
   ]
  },
  {
   "cell_type": "markdown",
   "id": "2c373cc5",
   "metadata": {},
   "source": [
    "### Running our Pipeline\n",
    "\n",
    "GTMDecon.pipeline arguments:\n",
    "- **bulk_data** : pd.DataFrame\n",
    "- **reference_data** : pd.DataFrame\n",
    "- **directory** : str\n",
    "    - directory where we want to save the model parameters and inferred cell-type proportions \n",
    "    - we expect the inferred propotions to end up here: **/vignette_results/gatheredResults.csv**\n"
   ]
  },
  {
   "cell_type": "markdown",
   "id": "7ac14d96",
   "metadata": {},
   "source": [
    "We make a directory to store the results for this vignette"
   ]
  },
  {
   "cell_type": "code",
   "execution_count": 53,
   "id": "ed052751",
   "metadata": {},
   "outputs": [],
   "source": [
    "!mkdir tutorial_results"
   ]
  },
  {
   "cell_type": "markdown",
   "id": "be9a72c4",
   "metadata": {},
   "source": [
    "Here we run our pipeline, including processing data to GTM-decon format, training, and cell-type proportion inference.\n",
    "\n",
    "If we want to suppress print statements, set GTM.verbose = False"
   ]
  },
  {
   "cell_type": "code",
   "execution_count": 58,
   "id": "d7b35fb7",
   "metadata": {
    "scrolled": true
   },
   "outputs": [
    {
     "name": "stdout",
     "output_type": "stream",
     "text": [
      "Running GTM Deconvolution Pipeline\n",
      "Writing results to /home/mcb/users/zhuang35/projects/gtm-decon/vignettes/tutorial_results\n",
      "**********************************\n",
      "\n",
      "Saving genes file to /home/mcb/users/zhuang35/projects/gtm-decon/vignettes/tutorial_results/genes.txt ...\n",
      "Successfully wrote genes file to /home/mcb/users/zhuang35/projects/gtm-decon/vignettes/tutorial_results/genes.txt\n",
      "Saving meta file to /home/mcb/users/zhuang35/projects/gtm-decon/vignettes/tutorial_results/meta.txt ...\n",
      "Successfully wrote meta file to /home/mcb/users/zhuang35/projects/gtm-decon/vignettes/tutorial_results/meta.txt\n",
      "Saving training file to /home/mcb/users/zhuang35/projects/gtm-decon/vignettes/tutorial_results/trainData.txt ...\n",
      "Successfully wrote training file to /home/mcb/users/zhuang35/projects/gtm-decon/vignettes/tutorial_results/trainData.txt\n",
      "Saving prior file to /home/mcb/users/zhuang35/projects/gtm-decon/vignettes/tutorial_results/priorData.txt ...\n",
      "Successfully wrote prior file to /home/mcb/users/zhuang35/projects/gtm-decon/vignettes/tutorial_results/priorData.txt\n",
      "Saving bulk text format file to /home/mcb/users/zhuang35/projects/gtm-decon/vignettes/tutorial_results ...\n"
     ]
    },
    {
     "name": "stderr",
     "output_type": "stream",
     "text": [
      "/home/mcb/users/zhuang35/projects/gtm-decon/PythonWrapper/GTM_decon.py:583: UserWarning: Duplicate genes found in bulk data indices! Dropping duplicates, keeping first!\n",
      "  warnings.warn('Duplicate genes found in bulk data indices! Dropping duplicates, keeping first!')\n"
     ]
    },
    {
     "name": "stdout",
     "output_type": "stream",
     "text": [
      "Successfully wrote bulk file to /home/mcb/users/zhuang35/projects/gtm-decon/vignettes/tutorial_results/bulkData.txt\n",
      "Saving attributes dict_keys(['experiment_name', 'n_topics', 'engine_path', 'genes', 'celltypes', 'bulk_samples', 'verbose', 'output_intermediates', 'override_geneset']) to path: /home/mcb/users/zhuang35/projects/gtm-decon/vignettes/tutorial_results/GTMParameters.json\n",
      "Successfully saved GTMWrapper parameters to /home/mcb/users/zhuang35/projects/gtm-decon/vignettes/tutorial_results/GTMParameters.json\n",
      "Running Inference Engine ...\n",
      "--------------------\n",
      "Input arguments: \n",
      "trainDataFile: /home/mcb/users/zhuang35/projects/gtm-decon/vignettes/tutorial_results/trainData.txt\n",
      "testDataFile: \n",
      "trainPriorFile: /home/mcb/users/zhuang35/projects/gtm-decon/vignettes/tutorial_results/priorData.txt\n",
      "testPriorFile: \n",
      "metaFile: /home/mcb/users/zhuang35/projects/gtm-decon/vignettes/tutorial_results/meta.txt\n",
      "numTopics#: 14\n",
      "iter#: 5\n",
      "convergenceThreshold: 1e-07\n",
      "inference method: JCVB0\n",
      "NMAR inference enabled: 1\n",
      "maxcores: 10\n",
      "--------------------\n",
      "decon->outputIntermediates 0\n",
      "Initialized\n",
      "numOfDataTypes: 1\n",
      "numOfGenes: 5026\n",
      "numOfRSSamples: 1535\n",
      "C_train: 29490897\n",
      "Training data file parsing completed.\n",
      "--------------------\n",
      "Train data parsed\n",
      "Prior data file parsing completed.\n",
      "--------------------\n",
      "Train prior parsed\n",
      "Data import time taken: 1.18s\n",
      "1: logTrainLik: 0.00000000; logTrainLik diff: 0.00000000; logPredLik: 0.00000000; logPredLik diff: 0.00000000\n",
      "E-step\n",
      "M-step\n",
      "EB-step\n",
      "2: logTrainLik: -2.49707759; logTrainLik diff: -2.49707759; logPredLik: 0.00000000; logPredLik diff: 0.00000000\n",
      "E-step\n",
      "M-step\n",
      "EB-step\n",
      "3: logTrainLik: -2.42159679; logTrainLik diff: 0.07548080; logPredLik: 0.00000000; logPredLik diff: 0.00000000\n",
      "E-step\n",
      "M-step\n",
      "EB-step\n",
      "4: logTrainLik: -2.20478357; logTrainLik diff: 0.21681322; logPredLik: 0.00000000; logPredLik diff: 0.00000000\n",
      "E-step\n",
      "M-step\n",
      "EB-step\n",
      "5: logTrainLik: -1.93916184; logTrainLik diff: 0.26562172; logPredLik: 0.00000000; logPredLik diff: 0.00000000\n",
      "Training completed after 5 iterations\n",
      "Training time taken: 3.85s\n",
      "Total time taken: 5.57s\n",
      "Completed Running Inference Engine.\n",
      "--------------------\n",
      "Input arguments: \n",
      "trainDataFile: \n",
      "testDataFile: \n",
      "trainPriorFile: \n",
      "testPriorFile: \n",
      "metaFile: /home/mcb/users/zhuang35/projects/gtm-decon/vignettes/tutorial_results/meta.txt\n",
      "numTopics#: 14\n",
      "iter#: 100\n",
      "convergenceThreshold: 1e-07\n",
      "inference method: JCVB0\n",
      "NMAR inference enabled: 1\n",
      "maxcores: 10\n",
      "--------------------\n",
      "Use the trained model /home/mcb/users/zhuang35/projects/gtm-decon/vignettes/tutorial_results/trainData_JCVB0_nmar_K14_iter5\n",
      "to infer new RSSample meta-genotypes from /home/mcb/users/zhuang35/projects/gtm-decon/vignettes/tutorial_results/bulkData.txt\n",
      "--------------------\n",
      "Parsing phi normalized: /home/mcb/users/zhuang35/projects/gtm-decon/vignettes/tutorial_results/trainData_JCVB0_nmar_K14_iter5_phi_normalized.csv ... done.\n",
      "--------------------\n",
      "Parsing beta: /home/mcb/users/zhuang35/projects/gtm-decon/vignettes/tutorial_results/trainData_JCVB0_nmar_K14_iter5_beta.csv ... done.\n",
      "--------------------\n",
      "Parsing alpha: /home/mcb/users/zhuang35/projects/gtm-decon/vignettes/tutorial_results/trainData_JCVB0_nmar_K14_iter5_alpha.csv ... done.\n",
      "--------------------\n",
      "Trained model data files parsing completed.\n",
      "--------------------\n",
      "--------------------\n",
      "New RSSample data files parsing completed.\n",
      "--------------------\n",
      "numOfGeneParamTypes: 1\n",
      "numOfGenes: 5026\n",
      "testRSSamples: 1\n",
      "C_train: 2534175\n",
      "--------------------\n",
      "Data import time taken: 0.03s\n",
      "Saving inferred RSSample metagene: /home/mcb/users/zhuang35/projects/gtm-decon/vignettes/tutorial_results/bulkData_trainData_JCVB0_nmar_K14_iter5_metagene.csv\n",
      "Meta-genotypes inference time taken: 0.04s\n",
      "Total time taken: 0.07s\n",
      "Compiling deconvolution results to /home/mcb/users/zhuang35/projects/gtm-decon/vignettes/tutorial_results/gatheredResults.csv\n",
      "Completed running Pipeline.\n"
     ]
    }
   ],
   "source": [
    "GTM.pipeline(\n",
    "    bulk_data = bulk_df,\n",
    "    reference_data = reference_df,\n",
    "    directory = os.path.join(os.getcwd(), 'tutorial_results'),\n",
    ")"
   ]
  },
  {
   "cell_type": "markdown",
   "id": "f5c401c9",
   "metadata": {},
   "source": [
    "Upon completion we should be able to obtain the predicted proportions in **/tutorial_results/gatheredResults.csv**\n",
    "\n",
    "This file contains the inferred cell-type proportions of our provided bulk data given the provided refernce data. The sample names are the index and the celltypes are the columns of this file."
   ]
  },
  {
   "cell_type": "code",
   "execution_count": 59,
   "id": "b3ea26a9",
   "metadata": {},
   "outputs": [],
   "source": [
    "predicted_props = pd.read_csv(\"../vignettes/tutorial_results/gatheredResults.csv\", index_col=0)"
   ]
  },
  {
   "cell_type": "code",
   "execution_count": 60,
   "id": "fced1b6e",
   "metadata": {},
   "outputs": [
    {
     "data": {
      "text/html": [
       "<div>\n",
       "<style scoped>\n",
       "    .dataframe tbody tr th:only-of-type {\n",
       "        vertical-align: middle;\n",
       "    }\n",
       "\n",
       "    .dataframe tbody tr th {\n",
       "        vertical-align: top;\n",
       "    }\n",
       "\n",
       "    .dataframe thead th {\n",
       "        text-align: right;\n",
       "    }\n",
       "</style>\n",
       "<table border=\"1\" class=\"dataframe\">\n",
       "  <thead>\n",
       "    <tr style=\"text-align: right;\">\n",
       "      <th></th>\n",
       "      <th>MHC class II cell</th>\n",
       "      <th>PSC cell</th>\n",
       "      <th>acinar cell</th>\n",
       "      <th>alpha cell</th>\n",
       "      <th>beta cell</th>\n",
       "      <th>co-expression cell</th>\n",
       "      <th>delta cell</th>\n",
       "      <th>ductal cell</th>\n",
       "      <th>endothelial cell</th>\n",
       "      <th>epsilon cell</th>\n",
       "      <th>gamma cell</th>\n",
       "      <th>mast cell</th>\n",
       "      <th>unclassified cell</th>\n",
       "      <th>unclassified endocrine cell</th>\n",
       "    </tr>\n",
       "  </thead>\n",
       "  <tbody>\n",
       "    <tr>\n",
       "      <th>H2</th>\n",
       "      <td>0.007957</td>\n",
       "      <td>0.014288</td>\n",
       "      <td>0.15615</td>\n",
       "      <td>0.042907</td>\n",
       "      <td>0.330283</td>\n",
       "      <td>0.066652</td>\n",
       "      <td>0.074174</td>\n",
       "      <td>0.118783</td>\n",
       "      <td>0.011726</td>\n",
       "      <td>0.029721</td>\n",
       "      <td>0.043195</td>\n",
       "      <td>0.029012</td>\n",
       "      <td>0.035782</td>\n",
       "      <td>0.039373</td>\n",
       "    </tr>\n",
       "  </tbody>\n",
       "</table>\n",
       "</div>"
      ],
      "text/plain": [
       "    MHC class II cell  PSC cell  acinar cell  alpha cell  beta cell  \\\n",
       "H2           0.007957  0.014288      0.15615    0.042907   0.330283   \n",
       "\n",
       "    co-expression cell  delta cell  ductal cell  endothelial cell  \\\n",
       "H2            0.066652    0.074174     0.118783          0.011726   \n",
       "\n",
       "    epsilon cell  gamma cell  mast cell  unclassified cell  \\\n",
       "H2      0.029721    0.043195   0.029012           0.035782   \n",
       "\n",
       "    unclassified endocrine cell  \n",
       "H2                     0.039373  "
      ]
     },
     "execution_count": 60,
     "metadata": {},
     "output_type": "execute_result"
    }
   ],
   "source": [
    "predicted_props.head()"
   ]
  },
  {
   "cell_type": "code",
   "execution_count": 69,
   "id": "e3415153",
   "metadata": {},
   "outputs": [],
   "source": [
    "# C make"
   ]
  },
  {
   "cell_type": "code",
   "execution_count": null,
   "id": "750f66ca",
   "metadata": {},
   "outputs": [],
   "source": []
  }
 ],
 "metadata": {
  "kernelspec": {
   "display_name": "Python 3 (ipykernel)",
   "language": "python",
   "name": "python3"
  },
  "language_info": {
   "codemirror_mode": {
    "name": "ipython",
    "version": 3
   },
   "file_extension": ".py",
   "mimetype": "text/x-python",
   "name": "python",
   "nbconvert_exporter": "python",
   "pygments_lexer": "ipython3",
   "version": "3.9.16"
  }
 },
 "nbformat": 4,
 "nbformat_minor": 5
}

{
 "cells": [
  {
   "cell_type": "markdown",
   "id": "34b23113",
   "metadata": {},
   "source": [
    "# Setup\n",
    "\n",
    "Section to set up Jupyter Notebook and intialize experimental settings.\n",
    "\n",
    "### Give Jupyter Notebook access to relative import"
   ]
  },
  {
   "cell_type": "code",
   "execution_count": null,
   "id": "52f876a8",
   "metadata": {},
   "outputs": [],
   "source": [
    "import os\n",
    "import sys\n",
    "module_path = os.path.abspath(os.path.join('..'))\n",
    "if module_path not in sys.path:\n",
    "    sys.path.append(module_path)"
   ]
  },
  {
   "cell_type": "markdown",
   "id": "19dd9eb1",
   "metadata": {},
   "source": [
    "### Create GTMDecon object\n",
    "\n",
    "For ease of user access, we use the GTMDecon python wrapper, built around the gtm-decon C executable files."
   ]
  },
  {
   "cell_type": "code",
   "execution_count": null,
   "id": "1fdb753a",
   "metadata": {},
   "outputs": [],
   "source": [
    "from PythonWrapper.GTM_decon import GTM_decon"
   ]
  },
  {
   "cell_type": "markdown",
   "id": "912c4e76",
   "metadata": {},
   "source": [
    "Initialize GTMDecon wrapper object:\n",
    "\n",
    "Basic Constructor Arguments:\n",
    "- **experiment_name** : str [optional]\n",
    "- **n_topics** : int [optional, default=1]\n",
    "    - number of topics we wish to set per celltype\n",
    "- **engine_path** : str\n",
    "    - path to GTM-decon C executable\n",
    "    Here we only set the experiment name and engine path, the n_topics parameter will be by default set to 1."
   ]
  },
  {
   "cell_type": "code",
   "execution_count": null,
   "id": "3b3dd3b8",
   "metadata": {},
   "outputs": [],
   "source": [
    "GTM = GTM_decon(\n",
    "    experiment_name = \"gtm-tutorial\",\n",
    "    engine_path = \"../gtm-decon-code/gtm-decon\"\n",
    ")"
   ]
  },
  {
   "cell_type": "markdown",
   "id": "ef31897f",
   "metadata": {},
   "source": [
    "We can see the parameters set for our GTM wrapper, including the number of topics per celltype and the engine_path (path to C executable).\n",
    "\n",
    "We can see that the **experiment_name**, **n_topics**, and **engine_path** attributes have been set as we intended, while the remaining attributes have been left unfilled. The **genes**, **celltypes**, and **bulk_samples** parameters will be populated as we provide our input reference and bulk data."
   ]
  },
  {
   "cell_type": "code",
   "execution_count": null,
   "id": "9f108529",
   "metadata": {},
   "outputs": [],
   "source": [
    "print(GTM)"
   ]
  },
  {
   "cell_type": "markdown",
   "id": "cc566154",
   "metadata": {},
   "source": [
    "# Example Deconvolution Pipeline\n",
    "\n",
    "In order to infer cell-type proportions for a given bulk dataset and given single cell reference matrix, we can use the **GTMDecon.pipeline** function to process the input information, run it through the gtm-decon C executables, and output the predicted cell-type proportions of our bulk."
   ]
  },
  {
   "cell_type": "markdown",
   "id": "26696c83",
   "metadata": {},
   "source": [
    "### Loading DataFrames"
   ]
  },
  {
   "cell_type": "code",
   "execution_count": null,
   "id": "2fbc2bd8",
   "metadata": {},
   "outputs": [],
   "source": [
    "import pandas as pd\n",
    "import anndata as ad"
   ]
  },
  {
   "cell_type": "markdown",
   "id": "5535276a",
   "metadata": {},
   "source": [
    "Load our example reference and bulk dataframes from the example csvs.\n",
    "\n",
    "The **reference_DataFrame** should be a pandas DataFrame object, the rows are cells, the columns are the genes, with one additional column named *Celltype* containing the cell-type labels associated with each row.\n",
    "\n",
    "The **bulk_DataFrame** should be a pandas DataFrame, where the rows represent genes, with the genes stored as the index, and the columns represent the bulk batches.\n",
    "\n",
    "First need to uncompress tutorial data."
   ]
  },
  {
   "cell_type": "code",
   "execution_count": null,
   "id": "b11a61a4",
   "metadata": {},
   "outputs": [],
   "source": [
    "!ls ../data"
   ]
  },
  {
   "cell_type": "code",
   "execution_count": null,
   "id": "ec122392",
   "metadata": {},
   "outputs": [],
   "source": [
    "!tar -xzvf ../data/tutorial_data.tar.gz -C ../data"
   ]
  },
  {
   "cell_type": "code",
   "execution_count": null,
   "id": "4ad2456e",
   "metadata": {},
   "outputs": [],
   "source": [
    "bulk_DataFrame = pd.read_csv(\"../data/bulk_data.csv\", index_col=0)\n",
    "reference_DataFrame = pd.read_csv(\"../data/reference_data.csv\")"
   ]
  },
  {
   "cell_type": "markdown",
   "id": "de05d885",
   "metadata": {},
   "source": [
    "### Single Leave-One-Out CV fold\n",
    "\n",
    "Since we have paired single cell reference and bulk data for this example, we will remove one batch from the reference data, and deconvolve the bulk data corresponding to that same individual (in order to prevent data leaking). \n",
    "\n",
    "Here we will leave-out H2."
   ]
  },
  {
   "cell_type": "code",
   "execution_count": null,
   "id": "bba75a57",
   "metadata": {},
   "outputs": [],
   "source": [
    "reference_df = reference_DataFrame[reference_DataFrame['Batch'] != 'H2']"
   ]
  },
  {
   "cell_type": "markdown",
   "id": "c7813ef8",
   "metadata": {},
   "source": [
    "We need to first remove the **Batch** column, as GTM_decon expects DataFrames to only contain the genes and cell-type labels in its columns."
   ]
  },
  {
   "cell_type": "code",
   "execution_count": null,
   "id": "99ed2ed1",
   "metadata": {},
   "outputs": [],
   "source": [
    "reference_df = reference_df.drop(columns=['Batch'])"
   ]
  },
  {
   "cell_type": "code",
   "execution_count": null,
   "id": "46b1e376",
   "metadata": {},
   "outputs": [],
   "source": [
    "reference_df.head()"
   ]
  },
  {
   "cell_type": "markdown",
   "id": "96a08df5",
   "metadata": {},
   "source": [
    "For the bulk data we will do the inverse of the above, we will keep batch H2 so that we can infer the cell-type proportions of this sample."
   ]
  },
  {
   "cell_type": "code",
   "execution_count": null,
   "id": "06bb2ef5",
   "metadata": {},
   "outputs": [],
   "source": [
    "bulk_df = bulk_DataFrame[['H2']]"
   ]
  },
  {
   "cell_type": "code",
   "execution_count": null,
   "id": "5d8a5cd3",
   "metadata": {
    "scrolled": true
   },
   "outputs": [],
   "source": [
    "bulk_df.head()"
   ]
  },
  {
   "cell_type": "markdown",
   "id": "2c373cc5",
   "metadata": {},
   "source": [
    "### Running our Pipeline\n",
    "\n",
    "GTMDecon.pipeline arguments:\n",
    "- **bulk_data** : pd.DataFrame\n",
    "- **reference_data** : pd.DataFrame\n",
    "- **directory** : str\n",
    "    - directory where we want to save the model parameters and inferred cell-type proportions \n",
    "    - we expect the inferred propotions to end up here: **/vignette_results/gatheredResults.csv**\n"
   ]
  },
  {
   "cell_type": "markdown",
   "id": "7ac14d96",
   "metadata": {},
   "source": [
    "We make a directory to store the results for this vignette"
   ]
  },
  {
   "cell_type": "code",
   "execution_count": null,
   "id": "ed052751",
   "metadata": {},
   "outputs": [],
   "source": [
    "!mkdir tutorial_results"
   ]
  },
  {
   "cell_type": "markdown",
   "id": "be9a72c4",
   "metadata": {},
   "source": [
    "Here we run our pipeline, including processing data to GTM-decon format, training, and cell-type proportion inference.\n",
    "\n",
    "If we want to suppress print statements, set GTM.verbose = False"
   ]
  },
  {
   "cell_type": "code",
   "execution_count": null,
   "id": "d7b35fb7",
   "metadata": {
    "scrolled": true
   },
   "outputs": [],
   "source": [
    "GTM.pipeline(\n",
    "    bulk_data = bulk_df,\n",
    "    reference_data = reference_df,\n",
    "    directory = os.path.join(os.getcwd(), 'tutorial_results'),\n",
    ")"
   ]
  },
  {
   "cell_type": "markdown",
   "id": "f5c401c9",
   "metadata": {},
   "source": [
    "Upon completion we should be able to obtain the predicted proportions in **/tutorial_results/gatheredResults.csv**\n",
    "\n",
    "This file contains the inferred cell-type proportions of our provided bulk data given the provided refernce data. The sample names are the index and the celltypes are the columns of this file."
   ]
  },
  {
   "cell_type": "code",
   "execution_count": null,
   "id": "b3ea26a9",
   "metadata": {},
   "outputs": [],
   "source": [
    "predicted_props = pd.read_csv(\"../vignettes/tutorial_results/gatheredResults.csv\", index_col=0)"
   ]
  },
  {
   "cell_type": "code",
   "execution_count": null,
   "id": "fced1b6e",
   "metadata": {},
   "outputs": [],
   "source": [
    "predicted_props.head()"
   ]
  },
  {
   "cell_type": "code",
   "execution_count": null,
   "id": "e3415153",
   "metadata": {},
   "outputs": [],
   "source": [
    "# C make"
   ]
  },
  {
   "cell_type": "code",
   "execution_count": null,
   "id": "750f66ca",
   "metadata": {},
   "outputs": [],
   "source": []
  }
 ],
 "metadata": {
  "kernelspec": {
   "display_name": "Python 3 (ipykernel)",
   "language": "python",
   "name": "python3"
  },
  "language_info": {
   "codemirror_mode": {
    "name": "ipython",
    "version": 3
   },
   "file_extension": ".py",
   "mimetype": "text/x-python",
   "name": "python",
   "nbconvert_exporter": "python",
   "pygments_lexer": "ipython3",
   "version": "3.8.10"
  }
 },
 "nbformat": 4,
 "nbformat_minor": 5
}

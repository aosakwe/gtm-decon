{
 "cells": [
  {
   "cell_type": "markdown",
   "id": "34b23113",
   "metadata": {},
   "source": [
    "# Setup\n",
    "\n",
    "Section to set up Jupyter Notebook and intialize experimental settings\n",
    "\n",
    "### Give Jupyter Notebook access to relative import"
   ]
  },
  {
   "cell_type": "code",
   "execution_count": 1,
   "id": "52f876a8",
   "metadata": {},
   "outputs": [],
   "source": [
    "import os\n",
    "import sys\n",
    "module_path = os.path.abspath(os.path.join('..'))\n",
    "if module_path not in sys.path:\n",
    "    sys.path.append(module_path)"
   ]
  },
  {
   "cell_type": "markdown",
   "id": "19dd9eb1",
   "metadata": {},
   "source": [
    "### Create GTMDecon object\n",
    "\n",
    "For ease of user access, we use the GTMDecon python wrapper, built around the gtm-decon C executable files."
   ]
  },
  {
   "cell_type": "code",
   "execution_count": 2,
   "id": "1fdb753a",
   "metadata": {},
   "outputs": [],
   "source": [
    "from PythonWrapper.GTM_decon import GTM_decon"
   ]
  },
  {
   "cell_type": "markdown",
   "id": "912c4e76",
   "metadata": {},
   "source": [
    "Initialize GTMDecon wrapper object:\n",
    "\n",
    "Basic Constructor Arguments:\n",
    "- **experiment_name** : str [optional]\n",
    "- **n_topics** : int [optional, default=1]\n",
    "    - number of topics we wish to set per celltype\n",
    "- **engine_path** : str\n",
    "    - path to GTM-decon C executable\n",
    "    Here we only set the experiment name and engine path, the n_topics parameter will be by default set to 1."
   ]
  },
  {
   "cell_type": "code",
   "execution_count": 3,
   "id": "3b3dd3b8",
   "metadata": {},
   "outputs": [],
   "source": [
    "GTM = GTM_decon(\n",
    "    experiment_name = \"gtm-example\",\n",
    "    engine_path = \"/home/mcb/users/slaksh1/projects/revision_gb/gtm-decon-phinorm/gtm-decon-plus-noupd-ab-phinorm\"\n",
    ")"
   ]
  },
  {
   "cell_type": "markdown",
   "id": "ef31897f",
   "metadata": {},
   "source": [
    "We can see the parameters set for our GTM wrapper, including the number of topics per celltype and the engine_path (path to C executable).\n",
    "\n",
    "We can see that the **experiment_name**, **n_topics**, and **engine_path** attributes have been set as we intended, while the remaining attributes have been left unfilled. The **genes**, **celltypes**, and **bulk_samples** parameters will be populated as we provide our input reference and bulk data."
   ]
  },
  {
   "cell_type": "code",
   "execution_count": 4,
   "id": "9f108529",
   "metadata": {},
   "outputs": [
    {
     "name": "stdout",
     "output_type": "stream",
     "text": [
      "GTM-decon wrapper object with attributes:\n",
      "  - experiment_name: gtm-example\n",
      "  - n_topics: 1\n",
      "  - engine_path: /home/mcb/users/slaksh1/projects/revision_gb/gtm-decon-phinorm/gtm-decon-plus-noupd-ab-phinorm\n",
      "  - genes: []\n",
      "  - celltypes: []\n",
      "  - bulk_samples: []\n",
      "  - verbose: True\n",
      "  - output_intermediates: False\n",
      "  - override_geneset: False\n",
      "\n"
     ]
    }
   ],
   "source": [
    "print(GTM)"
   ]
  },
  {
   "cell_type": "markdown",
   "id": "cc566154",
   "metadata": {},
   "source": [
    "# Example Deconvolution Pipeline\n",
    "\n",
    "In order to infer cell-type proportions for a given bulk dataset and given single cell reference matrix, we can use the **GTMDecon.pipeline** function to process the input information, run it through the gtm-decon C executables, and output the predicted cell-type proportions of our bulk."
   ]
  },
  {
   "cell_type": "markdown",
   "id": "26696c83",
   "metadata": {},
   "source": [
    "### Loading DataFrames"
   ]
  },
  {
   "cell_type": "code",
   "execution_count": 5,
   "id": "2fbc2bd8",
   "metadata": {},
   "outputs": [],
   "source": [
    "import pandas as pd\n",
    "import anndata as ad"
   ]
  },
  {
   "cell_type": "markdown",
   "id": "5535276a",
   "metadata": {},
   "source": [
    "Load our reference and bulk dataframes from the example csvs.\n",
    "\n",
    "The **reference_DataFrame** should be a pandas DataFrame object, the rows are cells, the columns are the genes, with one additional column named *Celltype* containing the cell-type labels associated with each row.\n",
    "\n",
    "The **bulk_DataFrame** should be a pandas DataFrame, where the rows represent genes, with the genes stored as the index, and the columns represent the bulk batches."
   ]
  },
  {
   "cell_type": "code",
   "execution_count": 6,
   "id": "4ad2456e",
   "metadata": {},
   "outputs": [],
   "source": [
    "bulk_DataFrame = pd.read_csv(\"../data/bulk.csv\", index_col=0)\n",
    "reference_DataFrame = pd.read_csv(\"../data/ref.csv\")"
   ]
  },
  {
   "cell_type": "markdown",
   "id": "2c373cc5",
   "metadata": {},
   "source": [
    "### Running our Pipeline\n",
    "\n",
    "GTMDecon.pipeline arguments:\n",
    "- **bulk_data** : pd.DataFrame\n",
    "- **reference_data** : pd.DataFrame\n",
    "- **directory** : str\n",
    "    - directory where we want to save the model parameters and inferred cell-type proportions \n",
    "    - we expect the inferred propotions to end up here: **/vignette_results/gatheredResults.csv**\n"
   ]
  },
  {
   "cell_type": "markdown",
   "id": "7ac14d96",
   "metadata": {},
   "source": [
    "We make a directory to store the results for this vignette"
   ]
  },
  {
   "cell_type": "code",
   "execution_count": 12,
   "id": "ed052751",
   "metadata": {},
   "outputs": [],
   "source": [
    "!mkdir tutorial_results"
   ]
  },
  {
   "cell_type": "markdown",
   "id": "be9a72c4",
   "metadata": {},
   "source": [
    "Here we run our pipeline, including processing data to GTM-decon format, training, and cell-type proportion inference.\n",
    "\n",
    "If we want to suppress print statements, set GTM.verbose = False"
   ]
  },
  {
   "cell_type": "code",
   "execution_count": 8,
   "id": "d7b35fb7",
   "metadata": {
    "scrolled": true
   },
   "outputs": [
    {
     "name": "stdout",
     "output_type": "stream",
     "text": [
      "Running GTM Deconvolution Pipeline\n",
      "Writing results to /home/mcb/users/zhuang35/projects/gtm-decon/vignettes/tutorial_results\n",
      "**********************************\n",
      "\n",
      "Saving genes file to /home/mcb/users/zhuang35/projects/gtm-decon/vignettes/tutorial_results/genes.txt ...\n",
      "Successfully wrote genes file to /home/mcb/users/zhuang35/projects/gtm-decon/vignettes/tutorial_results/genes.txt\n",
      "Saving meta file to /home/mcb/users/zhuang35/projects/gtm-decon/vignettes/tutorial_results/meta.txt ...\n",
      "Successfully wrote meta file to /home/mcb/users/zhuang35/projects/gtm-decon/vignettes/tutorial_results/meta.txt\n",
      "Saving training file to /home/mcb/users/zhuang35/projects/gtm-decon/vignettes/tutorial_results/trainData.txt ...\n",
      "Successfully wrote training file to /home/mcb/users/zhuang35/projects/gtm-decon/vignettes/tutorial_results/trainData.txt\n",
      "Saving prior file to /home/mcb/users/zhuang35/projects/gtm-decon/vignettes/tutorial_results/priorData.txt ...\n",
      "Successfully wrote prior file to /home/mcb/users/zhuang35/projects/gtm-decon/vignettes/tutorial_results/priorData.txt\n",
      "Saving bulk text format file to /home/mcb/users/zhuang35/projects/gtm-decon/vignettes/tutorial_results ...\n",
      "Successfully wrote bulk file to /home/mcb/users/zhuang35/projects/gtm-decon/vignettes/tutorial_results/bulkData.txt\n",
      "Saving attributes dict_keys(['experiment_name', 'n_topics', 'engine_path', 'genes', 'celltypes', 'bulk_samples', 'verbose', 'output_intermediates', 'override_geneset']) to path: /home/mcb/users/zhuang35/projects/gtm-decon/vignettes/tutorial_results/GTMParameters.json\n",
      "Successfully saved GTMWrapper parameters to /home/mcb/users/zhuang35/projects/gtm-decon/vignettes/tutorial_results/GTMParameters.json\n",
      "Running Inference Engine ...\n",
      "--------------------\n",
      "Input arguments: \n",
      "trainDataFile: /home/mcb/users/zhuang35/projects/gtm-decon/vignettes/tutorial_results/trainData.txt\n",
      "testDataFile: \n",
      "trainPriorFile: /home/mcb/users/zhuang35/projects/gtm-decon/vignettes/tutorial_results/priorData.txt\n",
      "testPriorFile: \n",
      "metaFile: /home/mcb/users/zhuang35/projects/gtm-decon/vignettes/tutorial_results/meta.txt\n",
      "numTopics#: 12\n",
      "iter#: 5\n",
      "convergenceThreshold: 1e-07\n",
      "inference method: JCVB0\n",
      "NMAR inference enabled: 1\n",
      "maxcores: 10\n",
      "--------------------\n",
      "decon->outputIntermediates 0\n",
      "Initialized\n",
      "numOfDataTypes: 1\n",
      "numOfGenes: 26177\n",
      "numOfRSSamples: 1658\n",
      "C_train: 910022603\n",
      "Training data file parsing completed.\n",
      "--------------------\n",
      "Train data parsed\n",
      "Prior data file parsing completed.\n",
      "--------------------\n",
      "Train prior parsed\n",
      "Data import time taken: 12.95s\n",
      "1: logTrainLik: 0.00000000; logTrainLik diff: 0.00000000; logPredLik: 0.00000000; logPredLik diff: 0.00000000\n",
      "E-step\n",
      "M-step\n",
      "EB-step\n",
      "2: logTrainLik: -2.35224418; logTrainLik diff: -2.35224418; logPredLik: 0.00000000; logPredLik diff: 0.00000000\n",
      "E-step\n",
      "M-step\n",
      "EB-step\n",
      "3: logTrainLik: -2.32652600; logTrainLik diff: 0.02571817; logPredLik: 0.00000000; logPredLik diff: 0.00000000\n",
      "E-step\n",
      "M-step\n",
      "EB-step\n",
      "4: logTrainLik: -2.28003943; logTrainLik diff: 0.04648657; logPredLik: 0.00000000; logPredLik diff: 0.00000000\n",
      "E-step\n",
      "M-step\n",
      "EB-step\n",
      "5: logTrainLik: -2.21401675; logTrainLik diff: 0.06602268; logPredLik: 0.00000000; logPredLik diff: 0.00000000\n",
      "Training completed after 5 iterations\n",
      "Training time taken: 46.07s\n",
      "Total time taken: 60.94s\n",
      "Completed Running Inference Engine.\n",
      "--------------------\n",
      "Input arguments: \n",
      "trainDataFile: \n",
      "testDataFile: \n",
      "trainPriorFile: \n",
      "testPriorFile: \n",
      "metaFile: /home/mcb/users/zhuang35/projects/gtm-decon/vignettes/tutorial_results/meta.txt\n",
      "numTopics#: 12\n",
      "iter#: 100\n",
      "convergenceThreshold: 1e-07\n",
      "inference method: JCVB0\n",
      "NMAR inference enabled: 1\n",
      "maxcores: 10\n",
      "--------------------\n",
      "Use the trained model /home/mcb/users/zhuang35/projects/gtm-decon/vignettes/tutorial_results/trainData_JCVB0_nmar_K12_iter5\n",
      "to infer new RSSample meta-genotypes from /home/mcb/users/zhuang35/projects/gtm-decon/vignettes/tutorial_results/bulkData.txt\n",
      "--------------------\n",
      "Parsing phi normalized: /home/mcb/users/zhuang35/projects/gtm-decon/vignettes/tutorial_results/trainData_JCVB0_nmar_K12_iter5_phi_normalized.csv ... done.\n",
      "--------------------\n",
      "Parsing beta: /home/mcb/users/zhuang35/projects/gtm-decon/vignettes/tutorial_results/trainData_JCVB0_nmar_K12_iter5_beta.csv ... done.\n",
      "--------------------\n",
      "Parsing alpha: /home/mcb/users/zhuang35/projects/gtm-decon/vignettes/tutorial_results/trainData_JCVB0_nmar_K12_iter5_alpha.csv ... done.\n",
      "--------------------\n",
      "Trained model data files parsing completed.\n",
      "--------------------\n",
      "--------------------\n",
      "New RSSample data files parsing completed.\n",
      "--------------------\n",
      "numOfGeneParamTypes: 1\n",
      "numOfGenes: 26177\n",
      "testRSSamples: 2\n",
      "C_train: 81687545\n",
      "--------------------\n",
      "Data import time taken: 0.16s\n",
      "Saving inferred RSSample metagene: /home/mcb/users/zhuang35/projects/gtm-decon/vignettes/tutorial_results/bulkData_trainData_JCVB0_nmar_K12_iter5_metagene.csv\n",
      "Meta-genotypes inference time taken: 0.15s\n",
      "Total time taken: 0.30s\n",
      "Compiling deconvolution results to /home/mcb/users/zhuang35/projects/gtm-decon/vignettes/tutorial_results/gatheredResults.csv\n",
      "Completed running Pipeline.\n"
     ]
    }
   ],
   "source": [
    "GTM.pipeline(\n",
    "    bulk_data = bulk_DataFrame,\n",
    "    reference_data = reference_DataFrame,\n",
    "    directory = os.path.join(os.getcwd(), 'tutorial_results'),\n",
    ")"
   ]
  },
  {
   "cell_type": "markdown",
   "id": "f5c401c9",
   "metadata": {},
   "source": [
    "Upon completion we should be able to obtain the predicted proportions in **/tutorial_results/gatheredResults.csv**\n",
    "\n",
    "This file contains the inferred cell-type proportions of our provided bulk data given the provided refernce data. The sample names are the index and the celltypes are the columns of this file."
   ]
  },
  {
   "cell_type": "code",
   "execution_count": 14,
   "id": "b3ea26a9",
   "metadata": {},
   "outputs": [],
   "source": [
    "predicted_props = pd.read_csv(\"../vignettes/tutorial_results/gatheredResults.csv\", index_col=0)"
   ]
  },
  {
   "cell_type": "code",
   "execution_count": 15,
   "id": "fced1b6e",
   "metadata": {},
   "outputs": [
    {
     "data": {
      "text/html": [
       "<div>\n",
       "<style scoped>\n",
       "    .dataframe tbody tr th:only-of-type {\n",
       "        vertical-align: middle;\n",
       "    }\n",
       "\n",
       "    .dataframe tbody tr th {\n",
       "        vertical-align: top;\n",
       "    }\n",
       "\n",
       "    .dataframe thead th {\n",
       "        text-align: right;\n",
       "    }\n",
       "</style>\n",
       "<table border=\"1\" class=\"dataframe\">\n",
       "  <thead>\n",
       "    <tr style=\"text-align: right;\">\n",
       "      <th></th>\n",
       "      <th>MHC class II cell</th>\n",
       "      <th>PSC cell</th>\n",
       "      <th>acinar cell</th>\n",
       "      <th>alpha cell</th>\n",
       "      <th>beta cell</th>\n",
       "      <th>co-expression cell</th>\n",
       "      <th>delta cell</th>\n",
       "      <th>ductal cell</th>\n",
       "      <th>endothelial cell</th>\n",
       "      <th>epsilon cell</th>\n",
       "      <th>gamma cell</th>\n",
       "      <th>mast cell</th>\n",
       "    </tr>\n",
       "  </thead>\n",
       "  <tbody>\n",
       "    <tr>\n",
       "      <th>H1</th>\n",
       "      <td>0.092261</td>\n",
       "      <td>0.008316</td>\n",
       "      <td>0.136310</td>\n",
       "      <td>0.095074</td>\n",
       "      <td>0.177341</td>\n",
       "      <td>0.011476</td>\n",
       "      <td>0.111319</td>\n",
       "      <td>0.026478</td>\n",
       "      <td>0.015136</td>\n",
       "      <td>0.08083</td>\n",
       "      <td>0.104410</td>\n",
       "      <td>0.141049</td>\n",
       "    </tr>\n",
       "    <tr>\n",
       "      <th>D1</th>\n",
       "      <td>0.085596</td>\n",
       "      <td>0.052764</td>\n",
       "      <td>0.023833</td>\n",
       "      <td>0.187011</td>\n",
       "      <td>0.197139</td>\n",
       "      <td>0.020065</td>\n",
       "      <td>0.106696</td>\n",
       "      <td>0.066362</td>\n",
       "      <td>0.038764</td>\n",
       "      <td>0.01889</td>\n",
       "      <td>0.043128</td>\n",
       "      <td>0.159753</td>\n",
       "    </tr>\n",
       "  </tbody>\n",
       "</table>\n",
       "</div>"
      ],
      "text/plain": [
       "    MHC class II cell  PSC cell  acinar cell  alpha cell  beta cell  \\\n",
       "H1           0.092261  0.008316     0.136310    0.095074   0.177341   \n",
       "D1           0.085596  0.052764     0.023833    0.187011   0.197139   \n",
       "\n",
       "    co-expression cell  delta cell  ductal cell  endothelial cell  \\\n",
       "H1            0.011476    0.111319     0.026478          0.015136   \n",
       "D1            0.020065    0.106696     0.066362          0.038764   \n",
       "\n",
       "    epsilon cell  gamma cell  mast cell  \n",
       "H1       0.08083    0.104410   0.141049  \n",
       "D1       0.01889    0.043128   0.159753  "
      ]
     },
     "execution_count": 15,
     "metadata": {},
     "output_type": "execute_result"
    }
   ],
   "source": [
    "predicted_props.head()"
   ]
  },
  {
   "cell_type": "code",
   "execution_count": null,
   "id": "b476e00d",
   "metadata": {},
   "outputs": [],
   "source": []
  }
 ],
 "metadata": {
  "kernelspec": {
   "display_name": "Python 3 (ipykernel)",
   "language": "python",
   "name": "python3"
  },
  "language_info": {
   "codemirror_mode": {
    "name": "ipython",
    "version": 3
   },
   "file_extension": ".py",
   "mimetype": "text/x-python",
   "name": "python",
   "nbconvert_exporter": "python",
   "pygments_lexer": "ipython3",
   "version": "3.9.16"
  }
 },
 "nbformat": 4,
 "nbformat_minor": 5
}
